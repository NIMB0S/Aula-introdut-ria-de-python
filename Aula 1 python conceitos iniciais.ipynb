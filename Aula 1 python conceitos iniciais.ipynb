{
 "cells": [
  {
   "cell_type": "code",
   "execution_count": 7,
   "metadata": {},
   "outputs": [
    {
     "name": "stdout",
     "output_type": "stream",
     "text": [
      "A area do, 20.0 triangulo é\n",
      "O perimetro do triangulo é  24.0\n"
     ]
    }
   ],
   "source": [
    "#calculo da area e perimetro de um triangulo\n",
    "lado = float(input('Por favor digite o comprimento do triangulo '))\n",
    "altura = float(input('Por favor digite a altura do triangulo'))\n",
    "\n",
    "area = (lado * altura) \n",
    "perimetro = (2*lado + 2*altura)\n",
    "print('A area do triangulo é ', area)\n",
    "print('O perimetro do triangulo é ', perimetro )"
   ]
  },
  {
   "cell_type": "code",
   "execution_count": 5,
   "metadata": {},
   "outputs": [
    {
     "name": "stdout",
     "output_type": "stream",
     "text": [
      "Maior de idade\n"
     ]
    }
   ],
   "source": [
    "#uso das condições \n",
    "idade = int(input('Digite sua idade: '))\n",
    "if idade >= 18:\n",
    "    print( 'Maior de idade')\n",
    "elif idade > 16:\n",
    "    print ('Adolescente')\n",
    "else:\n",
    "    print ('Menor de idade')"
   ]
  },
  {
   "cell_type": "code",
   "execution_count": 8,
   "metadata": {},
   "outputs": [
    {
     "name": "stdout",
     "output_type": "stream",
     "text": [
      "O numero 10 é par\n"
     ]
    }
   ],
   "source": [
    "#identificar se o numero é par \n",
    "#usar chave para colocar uma variavel dentro de uma string -> palavra sem ser numero\n",
    "numero = int(input('Digite um numero inteiro'))\n",
    "if numero % 2 == 0:\n",
    "    print(f'O numero {numero} é par')\n",
    "else:\n",
    "    print('O numero {} é impar' .format(numero))\n"
   ]
  },
  {
   "cell_type": "code",
   "execution_count": 26,
   "metadata": {},
   "outputs": [
    {
     "name": "stdout",
     "output_type": "stream",
     "text": [
      "1\n",
      "2\n",
      "3\n",
      "4\n",
      "5\n",
      "6\n",
      "7\n",
      "8\n",
      "9\n",
      "10\n"
     ]
    }
   ],
   "source": [
    "#contagem em forma crescente de 1 a 10\n",
    "x = 1\n",
    "while x <= 10:\n",
    "    print(x)\n",
    "    x = x + 1\n",
    " "
   ]
  },
  {
   "cell_type": "code",
   "execution_count": 28,
   "metadata": {},
   "outputs": [
    {
     "name": "stdout",
     "output_type": "stream",
     "text": [
      "12\n",
      "10\n",
      "8\n",
      "6\n",
      "4\n",
      "2\n",
      "0\n"
     ]
    }
   ],
   "source": [
    "#contagem em forma decrecente de dois em dois\n",
    "x = int(input('Digite um numero inteiro postivo: '));\n",
    "while x >= 0:\n",
    "    print(x)\n",
    "    x = x - 2\n",
    " "
   ]
  },
  {
   "cell_type": "code",
   "execution_count": 72,
   "metadata": {},
   "outputs": [
    {
     "name": "stdout",
     "output_type": "stream",
     "text": [
      "70\n",
      "68\n",
      "66\n",
      "64\n",
      "62\n",
      "60\n",
      "58\n",
      "56\n",
      "54\n",
      "52\n",
      "50\n",
      "48\n",
      "46\n",
      "44\n",
      "42\n",
      "40\n",
      "38\n",
      "36\n",
      "34\n",
      "32\n",
      "30\n",
      "28\n",
      "26\n",
      "24\n",
      "22\n",
      "20\n",
      "18\n",
      "16\n",
      "14\n",
      "12\n",
      "10\n",
      "8\n",
      "6\n",
      "4\n",
      "2\n",
      "0\n"
     ]
    }
   ],
   "source": [
    "#contagem regressiva de 2 em 2\n",
    "num = int(input( 'Digite um numero'))\n",
    "for num in range(num, -1, -2):\n",
    "    print(num)"
   ]
  },
  {
   "cell_type": "code",
   "execution_count": 69,
   "metadata": {},
   "outputs": [
    {
     "name": "stdout",
     "output_type": "stream",
     "text": [
      "A soma dos numeros é:  25\n",
      "A media dos numeros é:  5.0\n"
     ]
    }
   ],
   "source": [
    "#Fazer a soma porem de forma manual\n",
    "n1 = int(input('Digite um numero: '))\n",
    "n2 = int(input('Digite um numero: '))\n",
    "n3 = int(input('Digite um numero: '))\n",
    "n4 = int(input('Digite um numero: '))\n",
    "n5 = int(input('Digite um numero: '))\n",
    "print('A soma dos numeros é: ', n1 + n2 + n3 + n4 + n5)\n",
    "print('A media dos numeros é: ', (n1 + n2 + n3 + n4 + n5) / 5)"
   ]
  },
  {
   "cell_type": "code",
   "execution_count": 53,
   "metadata": {},
   "outputs": [
    {
     "name": "stdout",
     "output_type": "stream",
     "text": [
      "1\n",
      "3\n",
      "5\n",
      "7\n",
      "9\n",
      "11\n",
      "13\n",
      "15\n",
      "17\n",
      "19\n",
      "21\n",
      "23\n",
      "25\n",
      "27\n",
      "29\n",
      "31\n",
      "33\n",
      "35\n",
      "37\n",
      "39\n",
      "41\n",
      "43\n",
      "45\n",
      "47\n",
      "49\n"
     ]
    }
   ],
   "source": [
    "# fazer uma contagem decrescente a identação serve pra apenas executar o comando dependendo de outro anteriormente escrito\n",
    "for num in range(1 , 50):\n",
    "  if num % 2 == 1:\n",
    "    print(num)\n"
   ]
  },
  {
   "cell_type": "code",
   "execution_count": 68,
   "metadata": {},
   "outputs": [
    {
     "name": "stdout",
     "output_type": "stream",
     "text": [
      "A media dos numeros digitados é:  6.0\n",
      "A soma dos numeros digitados é:  30\n"
     ]
    }
   ],
   "source": [
    "#soma 0 significa que ele não somou nada ainda, vai começar do 0 e vai somando os numeros que forem digitados \n",
    "soma = 0\n",
    "for n in range(1, 6):\n",
    "    n = int(input('Digite 5 numeros/n: '))\n",
    "    soma = soma+numero\n",
    "media = soma/5\n",
    "print('A media dos numeros digitados é: ', media)\n",
    "print('A soma dos numeros digitados é: ', soma)"
   ]
  }
 ],
 "metadata": {
  "kernelspec": {
   "display_name": "base",
   "language": "python",
   "name": "python3"
  },
  "language_info": {
   "codemirror_mode": {
    "name": "ipython",
    "version": 3
   },
   "file_extension": ".py",
   "mimetype": "text/x-python",
   "name": "python",
   "nbconvert_exporter": "python",
   "pygments_lexer": "ipython3",
   "version": "3.11.7"
  }
 },
 "nbformat": 4,
 "nbformat_minor": 2
}
